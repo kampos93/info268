{
 "cells": [
  {
   "cell_type": "code",
   "execution_count": 1,
   "metadata": {},
   "outputs": [
    {
     "name": "stdout",
     "output_type": "stream",
     "text": [
      "\u001b[0;1;32m●\u001b[0m neo4j.service - Neo4j Graph Database\r\n",
      "   Loaded: loaded (/lib/systemd/system/neo4j.service; disabled; vendor preset: enabled)\r\n",
      "   Active: \u001b[0;1;32mactive (running)\u001b[0m since jue 2018-08-02 19:30:36 -04; 121ms ago\r\n",
      " Main PID: 5669 (bash)\r\n",
      "   CGroup: /system.slice/neo4j.service\r\n",
      "           ├─5669 bash /usr/share/neo4j/bin/neo4j console\r\n",
      "           ├─5688 bash /usr/share/neo4j/bin/neo4j console\r\n",
      "           ├─5689 bash /usr/share/neo4j/bin/neo4j console\r\n",
      "           └─5690 awk -F \" /version/ {print $2}\r\n",
      "\r\n",
      "ago 02 19:30:36 kampos93-HP-ENVY-15-Notebook-PC systemd[1]: Started Neo4j Gra...\r\n",
      "Hint: Some lines were ellipsized, use -l to show in full.\r\n"
     ]
    }
   ],
   "source": [
    "!systemctl start neo4j.service\n",
    "!systemctl status neo4j.service"
   ]
  },
  {
   "cell_type": "code",
   "execution_count": 3,
   "metadata": {},
   "outputs": [],
   "source": [
    "from py2neo import Graph\n",
    "\n",
    "grafo = Graph(host= 'localhost', user= 'neo4j', password='357896')"
   ]
  },
  {
   "cell_type": "code",
   "execution_count": 17,
   "metadata": {},
   "outputs": [
    {
     "name": "stdout",
     "output_type": "stream",
     "text": [
      "<Record n=(_1:Movie {released: 2003, tagline: 'Free your mind', title: 'The Matrix Reloaded'})>\n",
      "<Record n=(_2:Movie {released: 2003, tagline: 'Everything that has a beginning has an end', title: 'The Matrix Revolutions'})>\n",
      "<Record n=(_3:Movie {released: 1997, tagline: 'Evil has its winning ways', title: \"The Devil's Advocate\"})>\n",
      "<Record n=(_7:Movie {released: 1992, tagline: \"In the heart of the nation's capital, in a courthouse of the U.S. government, one man will stop at nothing to keep his honor, and one will stop at nothing to find the truth.\", title: 'A Few Good Men'})>\n",
      "<Record n=(_25:Movie {released: 1986, tagline: 'I feel the need, the need for speed.', title: 'Top Gun'})>\n",
      "<Record n=(_33:Movie {released: 2000, tagline: 'The rest of his life begins now.', title: 'Jerry Maguire'})>\n",
      "<Record n=(_40:Movie {released: 1999, tagline: 'Welcome to the Real World', title: 'The Matrix'})>\n",
      "<Record n=(_49:Movie {released: 2003, tagline: 'Free your mind', title: 'The Matrix Reloaded'})>\n",
      "<Record n=(_50:Movie {released: 2003, tagline: 'Everything that has a beginning has an end', title: 'The Matrix Revolutions'})>\n",
      "<Record n=(_51:Movie {released: 1997, tagline: 'Evil has its winning ways', title: \"The Devil's Advocate\"})>\n",
      "<Record n=(_55:Movie {released: 1992, tagline: \"In the heart of the nation's capital, in a courthouse of the U.S. government, one man will stop at nothing to keep his honor, and one will stop at nothing to find the truth.\", title: 'A Few Good Men'})>\n",
      "<Record n=(_69:Movie {released: 1986, tagline: 'I feel the need, the need for speed.', title: 'Top Gun'})>\n",
      "<Record n=(_77:Movie {released: 2000, tagline: 'The rest of his life begins now.', title: 'Jerry Maguire'})>\n",
      "<Record n=(_86:Movie {released: 1986, tagline: \"For some, it's the last real taste of innocence, and the first real taste of life. But for everyone, it's the time that memories are made of.\", title: 'Stand By Me'})>\n",
      "<Record n=(_92:Movie {released: 1997, tagline: 'A comedy from the heart that goes for the throat.', title: 'As Good as It Gets'})>\n",
      "<Record n=(_96:Movie {released: 1998, tagline: 'After life there is more. The end is just the beginning.', title: 'What Dreams May Come'})>\n",
      "<Record n=(_102:Movie {released: 1999, tagline: 'First loves last. Forever.', title: 'Snow Falling on Cedars'})>\n",
      "<Record n=(_107:Movie {released: 1998, tagline: 'At odds in life... in love on-line.', title: \"You've Got Mail\"})>\n",
      "<Record n=(_113:Movie {released: 1993, tagline: 'What if someone you never met, someone you never saw, someone you never knew was the only someone for you?', title: 'Sleepless in Seattle'})>\n",
      "<Record n=(_118:Movie {released: 1990, tagline: 'A story of love, lava and burning desire.', title: 'Joe Versus the Volcano'})>\n",
      "<Record n=(_121:Movie {released: 1998, tagline: 'At odds in life... in love on-line.', title: 'When Harry Met Sally'})>\n",
      "<Record n=(_125:Movie {released: 1996, tagline: 'In every life there comes a time when that thing you dream becomes that thing you do', title: 'That Thing You Do'})>\n",
      "<Record n=(_127:Movie {released: 2000, tagline: 'Pain heals, Chicks dig scars... Glory lasts forever', title: 'The Replacements'})>\n",
      "<Record n=(_132:Movie {released: 2006, tagline: \"Based on the extraordinary true story of one man's fight for freedom\", title: 'RescueDawn'})>\n",
      "<Record n=(_135:Movie {released: 1996, tagline: 'Come as you are', title: 'The Birdcage'})>\n"
     ]
    }
   ],
   "source": [
    "Query = \"\"\" MATCH (n:Movie) RETURN n LIMIT 25\"\"\"\n",
    "\n",
    "data = grafo.run(Query, name=\"Nicole\")\n",
    "\n",
    "for d in data:\n",
    "    print(d)"
   ]
  },
  {
   "cell_type": "code",
   "execution_count": null,
   "metadata": {},
   "outputs": [],
   "source": []
  }
 ],
 "metadata": {
  "kernelspec": {
   "display_name": "Python 3",
   "language": "python",
   "name": "python3"
  },
  "language_info": {
   "codemirror_mode": {
    "name": "ipython",
    "version": 3
   },
   "file_extension": ".py",
   "mimetype": "text/x-python",
   "name": "python",
   "nbconvert_exporter": "python",
   "pygments_lexer": "ipython3",
   "version": "3.5.2"
  }
 },
 "nbformat": 4,
 "nbformat_minor": 2
}
