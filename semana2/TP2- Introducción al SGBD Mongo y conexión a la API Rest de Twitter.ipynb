{
 "cells": [
  {
   "cell_type": "markdown",
   "metadata": {},
   "source": [
    "# TP2- Introducción al SGBD MongoDB y Conexión a la API Rest de Twitter"
   ]
  },
  {
   "cell_type": "markdown",
   "metadata": {},
   "source": [
    "En este trabajo práctico queremos descubrir las características del SGBD no relacional MongoDB. En este sentido, vamos a desarrollar un script que se conecta a la API Rest de Twitter para: 1) descargar datos al formato JSON, 2) almacenarlos en una base Mongo y 3) realizar algunas consultas sobre los datos."
   ]
  },
  {
   "cell_type": "markdown",
   "metadata": {},
   "source": [
    "## 1. Conectarse a la API Rest de Twitter"
   ]
  },
  {
   "cell_type": "markdown",
   "metadata": {},
   "source": [
    "- ¿Cómo crear una aplicación utilizando los datos de Twitter?: https://developer.twitter.com/en/docs/basics/getting-started\n",
    "- Crear una aplicación utilizando los datos de Twitter: https://apps.twitter.com/\n",
    "- ¿Qué deberían saber todos los desarrolladores antes de jugar con la API de twitter?: https://developer.twitter.com/en/docs/basics/things-every-developer-should-know"
   ]
  },
  {
   "cell_type": "code",
   "execution_count": 1,
   "metadata": {},
   "outputs": [],
   "source": [
    "from twython import Twython\n",
    "\n",
    "APP_KEY = 'EBn457n1D8NxR9Jm58dBmajlC'\n",
    "APP_SECRET = 'YqNuIXPnuP7pwcs1CTiDF4IY7fqc6U9bxDAjSL3z4fsANiNffv'\n",
    "\n",
    "OAUTH_TOKEN = '538446650-aOp7wBtflyqeI70D56YoVsThKwr9f3SWR3hJtlVO'\n",
    "OAUTH_TOKEN_SECRET = '0BX4A2F59XDMtbEGcQusfDbdthPoRiNMZtHi31hW9Eos6'\n",
    "\n",
    "twitter = Twython(APP_KEY, APP_SECRET, OAUTH_TOKEN, OAUTH_TOKEN_SECRET)"
   ]
  },
  {
   "cell_type": "markdown",
   "metadata": {},
   "source": [
    "## 2. Consultar la API de Twitter"
   ]
  },
  {
   "cell_type": "markdown",
   "metadata": {},
   "source": [
    "- Utilizando una librería Python que permite enviar consultas HTTP a la API de Twitter, conectarse a un 'endpoint' de la API para leer datos. Ver la lista de los endpoints: https://developer.twitter.com/en/docs/tweets/post-and-engage/overview"
   ]
  },
  {
   "cell_type": "code",
   "execution_count": 2,
   "metadata": {
    "scrolled": false
   },
   "outputs": [
    {
     "name": "stdout",
     "output_type": "stream",
     "text": [
      "RT @KieranHarris7: You still looking for that earring? https://t.co/UX5ji4ksFW\n",
      "//////////////////\n",
      "Se celebró la primera Asamblea Ciudadana 2018 por la Defensa del río San Pedro y Calle Calle https://t.co/xlkB8nphzU https://t.co/7rUNcDuuTg\n",
      "//////////////////\n",
      "@jmc_valdivia @sebastianpinera 😀😀😀😀 ❗❗❗❗ https://t.co/5YfBB0O4Jq\n",
      "//////////////////\n",
      "#CABREROINFORMA:  🔴AHORA: #Chile (#Valdivia) Confirman hallazgo del cadaver de un bebé en un camión recolector de b… https://t.co/CcayqlvUzP\n",
      "//////////////////\n",
      "https://t.co/NCe1rn1LLp\n",
      "//////////////////\n",
      "RT @VTorneria: Buena nota de Diario Austral de Valdivia sobre el debut del @CSDConcepcion frente a @Rancoentercera \n",
      "\n",
      "1) Portada: https://t.…\n",
      "//////////////////\n",
      "@24HorasTVN Será tan Épico que si pierde #ColoColo se va #GUEDE y #LosAmigosDeGuedeFC  Paredes - Valdés - Orion - V… https://t.co/kpgPxZlAM6\n",
      "//////////////////\n",
      "@jmc_valdivia @LaTiaEvelyn @sebastianpinera Jaja...  Aquí cada uno cuenta la historia que le conviene....  Esto se… https://t.co/Ff5yrPfZs8\n",
      "//////////////////\n",
      "RT @rioenlinea: [🔵AHORA] Protestan por relleno de humedales en Valdivia y por la no aplicación de ordenanza municipal. #Valdiviacl https://…\n",
      "//////////////////\n",
      "RT @latercera: Baeza y Valdivia, limpios para el Superclásico https://t.co/F9dMaoI6YA https://t.co/A5TROYvV9Z\n",
      "//////////////////\n",
      "Terrible hallazgo | Personal de aseo de Valdivia descubrió cuerpo de bebé en basura 🔴 https://t.co/KOeu5EJQUo… https://t.co/DMSpdU3B0H\n",
      "//////////////////\n",
      "@lun que citen a Barroso... y que se vaya Mosa, Paredes y Valdivia...... todos aquellos que encubren a chantas mafi… https://t.co/vkd0xK411M\n",
      "//////////////////\n",
      "A não vai se fuder eu nem beijo parem com isso na tl https://t.co/pK90vTFS0S\n",
      "//////////////////\n",
      "En 2017, la Municipalidad de Valdivia recibió 25 denuncias de vecinos por relleno de humedales… https://t.co/PYtMDXAI8B\n",
      "//////////////////\n",
      "RT @ExtraChile: Encuentran a bebé muerto en camión de basura en #Valdivia. https://t.co/4fXYFkLPPm\n",
      "//////////////////\n",
      "Buscan certificar a Valdivia como “ciudad  amigable con las personas mayores” https://t.co/7RV2TIsgWc\n",
      "//////////////////\n",
      "@eszalfa5 @croldan77 @jmc_valdivia El día que el infierno exista eso si, y que no sea el que sacaron de la divina c… https://t.co/L7W7ycOmgH\n",
      "//////////////////\n",
      "Clases en Antonio Bellet 314, Providencia. A pasos de las estaciones Manuel Montt y Pedro de Valdivia. https://t.co/FvpST57i3A\n",
      "//////////////////\n",
      "Buscan certificar a Valdivia como “ciudad  amigable con las personas mayores” https://t.co/IYSqPF4f86\n",
      "//////////////////\n",
      "RT @FFQuakeProject: Bebé muerto en camión recolector de basura en Valdivia https://t.co/Ii33flGEML\n",
      "//////////////////\n",
      "RT @24HorasTVN: Bebé recién nacido es encontrado muerto dentro de un basurero en Valdivia https://t.co/tXRFvmULSV https://t.co/eV83tUSutj\n",
      "//////////////////\n",
      "@jmc_valdivia Dígale que lleve poca ropa, hace mucha calor allá abajo\n",
      "//////////////////\n",
      "RT @Marcelo_Hazan: São 11 de linha: Militão, Rodrigo Caio, Arboleda, Régis, Reinaldo, Petros, Jucilei, Liziero, Nenê, Valdívia e Tréllez #g…\n",
      "//////////////////\n",
      "Para los que no lo saben o Prefieren olvidar. Barroso es Mucho mas Referente que Valdivia, Orión, Insaurralde y var… https://t.co/MM4qowm9eD\n",
      "//////////////////\n",
      "RT @SantiagoOsborne: @JuanfraEscudero Se perdió hace casi dos meses. Os pido que lo compartais #Elpuertodesantamaria #Cadiz #jackrussel #pa…\n",
      "//////////////////\n",
      "@MobikeCL Hola! Ayer vi una bici en esquina de P. De Valdivia con Rodrigo de Araya, Ñuñoa. Espero que puedan recuperarla\n",
      "//////////////////\n",
      "@Consecuente1973 @cabrochicozurdo @jlabranaaburto @Guille_XX @jmc_valdivia @chelosnaiper @_The_Shining__… https://t.co/FXLEvluadc\n",
      "//////////////////\n",
      "RT @Consecuente1973: @cabrochicozurdo @jlabranaaburto @Guille_XX @jmc_valdivia @chelosnaiper @_The_Shining__ @Rod_only_one @anzunza @pulpot…\n",
      "//////////////////\n",
      "RT @dmalverde: Cuerpo de un bebé fue encontrado en un contenedor de basura en calle Amanda Labarca, sector auto construcción, Valdivia. Per…\n",
      "//////////////////\n",
      "RT @AntunezSilva: Pienso que sería un error alinear sólo a Reyes en la contención. CC apostará a lo que puedan hacer sus volantes ofensivos…\n",
      "//////////////////\n",
      "RT @gmo_vidal: @Guille_XX @pulpotwitero @cabrochicozurdo @jmc_valdivia @anzunza @Coooool0_0 @jlabranaaburto @chelosnaiper @_The_Shining__ @…\n",
      "//////////////////\n",
      "RT @Consecuente1973: @cabrochicozurdo @bebanaque @jlabranaaburto @Guille_XX @jmc_valdivia @chelosnaiper @_The_Shining__ @Rod_only_one @anzu…\n",
      "//////////////////\n",
      "RT @bebanaque: @Coooool0_0 @cabrochicozurdo @jlabranaaburto @Guille_XX @jmc_valdivia @chelosnaiper @_The_Shining__ @Rod_only_one @anzunza @…\n",
      "//////////////////\n",
      "RT @Consecuente1973: @cabrochicozurdo @jlabranaaburto @Guille_XX @jmc_valdivia @chelosnaiper @_The_Shining__ @Rod_only_one @anzunza @pulpot…\n",
      "//////////////////\n",
      "RT @Consecuente1973: @cabrochicozurdo @bebanaque @jlabranaaburto @Guille_XX @jmc_valdivia @chelosnaiper @_The_Shining__ @Rod_only_one @anzu…\n",
      "//////////////////\n",
      "RT @bebanaque: @cabrochicozurdo @Coooool0_0 @jlabranaaburto @Guille_XX @jmc_valdivia @chelosnaiper @_The_Shining__ @Rod_only_one @anzunza @…\n",
      "//////////////////\n",
      "RT @bebanaque: @cabrochicozurdo @Coooool0_0 @jlabranaaburto @Guille_XX @jmc_valdivia @chelosnaiper @_The_Shining__ @Rod_only_one @anzunza @…\n",
      "//////////////////\n",
      "RT @SKYAirline_CL: 🛫🌜 ¡Sólo por ESTA NOCHE... La Serena, Copiapó, Valdivia, Balmaceda y más destinos SKY hasta con un 68% de descuento en l…\n",
      "//////////////////\n",
      "RT @bebanaque: @cabrochicozurdo @Coooool0_0 @jlabranaaburto @Guille_XX @jmc_valdivia @chelosnaiper @_The_Shining__ @Rod_only_one @anzunza @…\n",
      "//////////////////\n",
      "RT @bebanaque: @cabrochicozurdo @Coooool0_0 @jlabranaaburto @Guille_XX @jmc_valdivia @chelosnaiper @_The_Shining__ @Rod_only_one @anzunza @…\n",
      "//////////////////\n"
     ]
    }
   ],
   "source": [
    "A = twitter.search(q='valdivia',count = 40)\n",
    "\n",
    "for i in A[\"statuses\"]:\n",
    "    #print(i['created_at'])\n",
    "    print(i['text'])\n",
    "    #print(i['user']['name'])\n",
    "    #print(i['user']['description'])\n",
    "    #print(i['user']['location'])\n",
    "    print(\"//////////////////\")\n",
    "    t = {\n",
    "        'created_at': i['created_at'],\n",
    "        'text':i['text'],\n",
    "        'name':i['user']['name'],\n",
    "        'description':i['user']['description'],\n",
    "        'location':i['user']['location'],\n",
    "    }"
   ]
  },
  {
   "cell_type": "markdown",
   "metadata": {},
   "source": [
    "## 3. Conectarse al SGBD Mongo"
   ]
  },
  {
   "cell_type": "markdown",
   "metadata": {},
   "source": [
    "- Conectarse a Mongo desde Python utilizando la librería adecuada"
   ]
  },
  {
   "cell_type": "code",
   "execution_count": 3,
   "metadata": {},
   "outputs": [],
   "source": [
    "from pymongo import MongoClient\n",
    "\n",
    "client = MongoClient()\n",
    "db = client.ejm\n"
   ]
  },
  {
   "cell_type": "markdown",
   "metadata": {},
   "source": [
    "## 4. Escribir datos de Twitter en una Base de Datos Mongo"
   ]
  },
  {
   "cell_type": "code",
   "execution_count": 4,
   "metadata": {},
   "outputs": [],
   "source": [
    "A = twitter.search(q='valdivia',count = 40)\n",
    "\n",
    "for i in A[\"statuses\"]:\n",
    "    #print(i['created_at'])\n",
    "    #print(i['text'])\n",
    "    #print(i['user']['name'])\n",
    "    #print(i['user']['description'])\n",
    "    #print(i['user']['location'])\n",
    "    #print(\"//////////////////\")\n",
    "    t = {\n",
    "        'created_at': i['created_at'],\n",
    "        'text':i['text'],\n",
    "        'name':i['user']['name'],\n",
    "        'description':i['user']['description'],\n",
    "        'location':i['user']['location'],\n",
    "    }\n",
    "    db.tweets.insert_one(t)"
   ]
  },
  {
   "cell_type": "code",
   "execution_count": null,
   "metadata": {},
   "outputs": [],
   "source": []
  }
 ],
 "metadata": {
  "kernelspec": {
   "display_name": "Python 3",
   "language": "python",
   "name": "python3"
  },
  "language_info": {
   "codemirror_mode": {
    "name": "ipython",
    "version": 3
   },
   "file_extension": ".py",
   "mimetype": "text/x-python",
   "name": "python",
   "nbconvert_exporter": "python",
   "pygments_lexer": "ipython3",
   "version": "3.5.2"
  }
 },
 "nbformat": 4,
 "nbformat_minor": 2
}
